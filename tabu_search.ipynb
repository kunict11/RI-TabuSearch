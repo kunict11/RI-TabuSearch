{
 "cells": [
  {
   "cell_type": "code",
   "execution_count": 588,
   "id": "extraordinary-custom",
   "metadata": {},
   "outputs": [],
   "source": [
    "import numpy as np\n",
    "import random\n",
    "import pandas as pd"
   ]
  },
  {
   "cell_type": "code",
   "execution_count": 571,
   "id": "stock-youth",
   "metadata": {},
   "outputs": [],
   "source": [
    "def initialize(distance_matrix, n):\n",
    "    min_idx = 0\n",
    "    solution = []\n",
    "    \n",
    "    solution.append(0)\n",
    "    \n",
    "    while True:\n",
    "        i = min_idx\n",
    "        min_dist = float('inf')\n",
    "        \n",
    "        for j in range(n):\n",
    "            if distance_matrix[i][j] < min_dist and i != j and j not in solution:\n",
    "                min_idx = j\n",
    "                min_dist = distance_matrix[i][j]\n",
    "                \n",
    "        solution.append(min_idx)\n",
    "        \n",
    "        if len(solution) == n:\n",
    "            break\n",
    "    \n",
    "    return solution"
   ]
  },
  {
   "cell_type": "code",
   "execution_count": 572,
   "id": "wireless-samba",
   "metadata": {},
   "outputs": [],
   "source": [
    "def evaluate_solution(solution, distance_matrix, n):\n",
    "    total_distance = 0\n",
    "    \n",
    "    for i in range(n-1):\n",
    "        current_city = solution[i]\n",
    "        next_city = solution[i+1]\n",
    "\n",
    "        total_distance += distance_matrix[current_city][next_city]\n",
    "        \n",
    "    total_distance += distance_matrix[solution[0]][solution[-1]]\n",
    "    \n",
    "    return total_distance"
   ]
  },
  {
   "cell_type": "code",
   "execution_count": 573,
   "id": "hungarian-transfer",
   "metadata": {},
   "outputs": [],
   "source": [
    "def modify(solution, n, frequencies):\n",
    "\n",
    "    p1 = random.randrange(n)\n",
    "    p2 = random.randrange(n)\n",
    "\n",
    "    while p1 == p2:\n",
    "        p2 = random.randrange(n)\n",
    "\n",
    "    if frequencies[p1][p2] >= 4:\n",
    "        min_freq = np.min(frequencies)\n",
    "        p1, p2 = np.argwhere(frequencies == min_freq)[0]\n",
    "        \n",
    "    new_solution = solution[:];\n",
    "    new_solution[p1], new_solution[p2] = new_solution[p2], new_solution[p1]\n",
    "\n",
    "    return new_solution, p1, p2"
   ]
  },
  {
   "cell_type": "code",
   "execution_count": 574,
   "id": "excited-revelation",
   "metadata": {},
   "outputs": [],
   "source": [
    "def tabu_active(p1, p2, tabu_list, iter):\n",
    "    if str([p1, p2]) in tabu_list and tabu_list[str([p1,p2])] > iter:\n",
    "        return True\n",
    "    return False"
   ]
  },
  {
   "cell_type": "code",
   "execution_count": 575,
   "id": "banned-morning",
   "metadata": {},
   "outputs": [],
   "source": [
    "def intensification(solution, n, intermediate_memory):\n",
    "    edges = [solution[i:i+2] for i in range(0, n-1, 1)]\n",
    "    edges.append([solution[-1], solution[0]])\n",
    "        \n",
    "    for i in range(len(edges)):\n",
    "        key = str(edges[i])\n",
    "        if key in intermediate_memory:\n",
    "            intermediate_memory[key] += 1\n",
    "        else:\n",
    "            intermediate_memory[key] = 1"
   ]
  },
  {
   "cell_type": "code",
   "execution_count": 583,
   "id": "gothic-legend",
   "metadata": {},
   "outputs": [],
   "source": [
    "def tabu_search(distance_matrix, n, tabu_tenure, num_iters):\n",
    "\n",
    "    current_solution = initialize(distance_matrix, n)\n",
    "    current_value = evaluate_solution(current_solution, distance_matrix, n)\n",
    "    solution = current_solution\n",
    "    best_value = current_value\n",
    "    \n",
    "    tabu_list = {}\n",
    "    frequencies = np.zeros((n,n), dtype=int)\n",
    "    intermediate_memory = {}\n",
    "    no_improvement = 0\n",
    "    \n",
    "    for i in range(num_iters):\n",
    "        \n",
    "        if no_improvement == 100:\n",
    "            current_solution = solution\n",
    "            current_value = best_value\n",
    "            no_improvement = 0\n",
    "            tabu_list = {}\n",
    "            frequencies = np.zeros((n,n), dtype=int)\n",
    "            intermediate_memory = {}\n",
    "            continue\n",
    "            \n",
    "        new_solution, p1, p2 = modify(current_solution, n, frequencies)\n",
    "        iters = 0\n",
    "        while str([p1,p2]) in intermediate_memory and intermediate_memory[str([p1,p2])] in range(4, 20) and iters < 2*n:\n",
    "            new_solution, p1, p2 = modify(current_solution, n, frequencies)\n",
    "            iters += 1\n",
    "            \n",
    "        new_value = evaluate_solution(new_solution, distance_matrix, n)\n",
    "        frequencies[p1][p2] += 1\n",
    "        frequencies[p2][p1] += 1\n",
    "        \n",
    "        if new_value <= current_value and not tabu_active(p1, p2, tabu_list, i) or new_value < best_value:\n",
    "            current_value = new_value\n",
    "            current_solution = new_solution\n",
    "            tabu_list[str([p1, p2])] = i + tabu_tenure\n",
    "            tabu_list[str([p2, p1])] = i + tabu_tenure\n",
    "\n",
    "            if new_value < best_value:\n",
    "                solution = new_solution\n",
    "                best_value = new_value\n",
    "                \n",
    "        else:\n",
    "            no_improvement += 1\n",
    "            \n",
    "        intensification(solution, n, intermediate_memory)\n",
    "        \n",
    "        # clean up the tabu list every 40 iterations       \n",
    "        if i % 40:\n",
    "            tabu_list = {k:v for (k, v) in tabu_list.items() if v < i}\n",
    "\n",
    "    return solution, best_value"
   ]
  },
  {
   "cell_type": "code",
   "execution_count": 584,
   "id": "controlling-vocabulary",
   "metadata": {},
   "outputs": [],
   "source": [
    "def load_data(filename):\n",
    "    with open(filename, 'r') as f:\n",
    "        n = int(f.readline())\n",
    "        distance_matrix = [[int(j) for j in f.readline().split()] for i in range(n)]\n",
    "    return n, distance_matrix"
   ]
  },
  {
   "cell_type": "markdown",
   "id": "italic-length",
   "metadata": {},
   "source": [
    "Testing on the [GR17](https://people.sc.fsu.edu/~jburkardt/datasets/tsp/gr17_d.txt) dataset"
   ]
  },
  {
   "cell_type": "code",
   "execution_count": 626,
   "id": "separated-spoke",
   "metadata": {},
   "outputs": [
    {
     "data": {
      "text/plain": [
       "([0, 3, 12, 6, 7, 5, 16, 13, 14, 2, 10, 9, 1, 4, 8, 11, 15], 2085)"
      ]
     },
     "execution_count": 626,
     "metadata": {},
     "output_type": "execute_result"
    }
   ],
   "source": [
    "n, distance_matrix = load_data('./sample_data/gr17.txt')\n",
    "tabu_search(distance_matrix, n, 22, 1000)"
   ]
  },
  {
   "cell_type": "code",
   "execution_count": null,
   "id": "specified-register",
   "metadata": {},
   "outputs": [],
   "source": []
  }
 ],
 "metadata": {
  "kernelspec": {
   "display_name": "Python 3",
   "language": "python",
   "name": "python3"
  },
  "language_info": {
   "codemirror_mode": {
    "name": "ipython",
    "version": 3
   },
   "file_extension": ".py",
   "mimetype": "text/x-python",
   "name": "python",
   "nbconvert_exporter": "python",
   "pygments_lexer": "ipython3",
   "version": "3.8.5"
  }
 },
 "nbformat": 4,
 "nbformat_minor": 5
}
