{
 "cells": [
  {
   "cell_type": "code",
   "execution_count": 74,
   "id": "steady-sustainability",
   "metadata": {},
   "outputs": [],
   "source": [
    "import numpy as np\n",
    "import random"
   ]
  },
  {
   "cell_type": "code",
   "execution_count": 75,
   "id": "useful-carry",
   "metadata": {},
   "outputs": [],
   "source": [
    "def initialize(distance_matrix, n):\n",
    "    min_idx = 0\n",
    "    solution = []\n",
    "    \n",
    "    solution.append(0)\n",
    "    \n",
    "    while True:\n",
    "        i = min_idx\n",
    "        min_dist = float('inf')\n",
    "        \n",
    "        for j in range(n):\n",
    "            if distance_matrix[i][j] < min_dist and i != j and j not in solution:\n",
    "                min_idx = j\n",
    "                min_dist = distance_matrix[i][j]\n",
    "                \n",
    "        solution.append(min_idx)\n",
    "        \n",
    "        if len(solution) == n:\n",
    "            break\n",
    "    \n",
    "    return solution"
   ]
  },
  {
   "cell_type": "code",
   "execution_count": 76,
   "id": "rational-sword",
   "metadata": {},
   "outputs": [],
   "source": [
    "def evaluate_solution(solution, distance_matrix, n):\n",
    "    total_distance = 0\n",
    "    \n",
    "    for i in range(n-1):\n",
    "        current_city = solution[i]\n",
    "        next_city = solution[i+1]\n",
    "        \n",
    "        total_distance += distance_matrix[current_city][next_city]\n",
    "        \n",
    "    total_distance += distance_matrix[solution[0]][solution[-1]]\n",
    "    \n",
    "    return total_distance"
   ]
  },
  {
   "cell_type": "code",
   "execution_count": 77,
   "id": "insured-court",
   "metadata": {},
   "outputs": [],
   "source": [
    "def modify(solution, p1, p2):\n",
    "\n",
    "    new_solution = solution[:];\n",
    "    new_solution[p1], new_solution[p2] = new_solution[p2], new_solution[p1]\n",
    "\n",
    "    return new_solution"
   ]
  },
  {
   "cell_type": "code",
   "execution_count": 99,
   "id": "aboriginal-argument",
   "metadata": {},
   "outputs": [],
   "source": [
    "def tabu_active(p1, p2, tabu_list, iter):\n",
    "    if str([p1, p2]) in tabu_list and tabu_list[str([p1,p2])] > iter:\n",
    "        return True\n",
    "    return False"
   ]
  },
  {
   "cell_type": "code",
   "execution_count": 107,
   "id": "tired-award",
   "metadata": {},
   "outputs": [],
   "source": [
    "def tabu_search(distance_matrix, n, tabu_tenure, num_iters):\n",
    "    current_solution = initialize(distance_matrix, n)\n",
    "    current_value = evaluate_solution(current_solution, distance_matrix, n)\n",
    "    solution = current_solution\n",
    "    best_value = current_value\n",
    "    tabu_list = {}\n",
    "    \n",
    "    for i in range(num_iters):\n",
    "        p1 = random.randrange(len(solution))\n",
    "        p2 = random.randrange(len(solution))\n",
    "\n",
    "        while p1 == p2:\n",
    "            p2 = random.randrange(len(solution))\n",
    "            \n",
    "        new_solution = modify(current_solution, p1, p2)\n",
    "        new_value = evaluate_solution(new_solution, distance_matrix, n)\n",
    "        \n",
    "        if new_value < current_value and not tabu_active(p1, p2, tabu_list, i):\n",
    "            current_value = new_value\n",
    "            current_solution = new_solution\n",
    "            tabu_list[str([p1, p2])] = i + tabu_tenure\n",
    "            tabu_list[str([p2, p1])] = i + tabu_tenure\n",
    "            \n",
    "            if new_value < best_value:\n",
    "                best_value = new_value\n",
    "                solution = new_solution\n",
    "                \n",
    "        # clean up the tabu list every 40 iterations       \n",
    "        if i % 40:\n",
    "            tabu_list = {k:v for (k, v) in tabu_list.items() if v < i}\n",
    "\n",
    "    return solution, best_value"
   ]
  },
  {
   "cell_type": "code",
   "execution_count": 108,
   "id": "heard-living",
   "metadata": {},
   "outputs": [],
   "source": [
    "def load_data(filename):\n",
    "    with open(filename, 'r') as f:\n",
    "        n = int(f.readline())\n",
    "        distance_matrix = [[int(j) for j in f.readline().split()] for i in range(n)]\n",
    "    return n, distance_matrix"
   ]
  },
  {
   "cell_type": "markdown",
   "id": "competent-imperial",
   "metadata": {},
   "source": [
    "Testing on the [GR17](https://people.sc.fsu.edu/~jburkardt/datasets/tsp/gr17_d.txt) dataset"
   ]
  },
  {
   "cell_type": "code",
   "execution_count": 109,
   "id": "adaptive-liberia",
   "metadata": {},
   "outputs": [],
   "source": [
    "n, distance_matrix = load_data('./sample_data/gr17.txt')"
   ]
  },
  {
   "cell_type": "code",
   "execution_count": 111,
   "id": "determined-artwork",
   "metadata": {},
   "outputs": [
    {
     "data": {
      "text/plain": [
       "([0, 3, 12, 6, 7, 5, 16, 13, 14, 2, 10, 9, 1, 4, 8, 11, 15], 2085)"
      ]
     },
     "execution_count": 111,
     "metadata": {},
     "output_type": "execute_result"
    }
   ],
   "source": [
    "tabu_search(distance_matrix, n, 8, 10000)"
   ]
  },
  {
   "cell_type": "code",
   "execution_count": null,
   "id": "boolean-palestinian",
   "metadata": {},
   "outputs": [],
   "source": []
  }
 ],
 "metadata": {
  "kernelspec": {
   "display_name": "Python 3",
   "language": "python",
   "name": "python3"
  },
  "language_info": {
   "codemirror_mode": {
    "name": "ipython",
    "version": 3
   },
   "file_extension": ".py",
   "mimetype": "text/x-python",
   "name": "python",
   "nbconvert_exporter": "python",
   "pygments_lexer": "ipython3",
   "version": "3.8.5"
  }
 },
 "nbformat": 4,
 "nbformat_minor": 5
}
