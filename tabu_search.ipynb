{
 "cells": [
  {
   "cell_type": "code",
   "execution_count": 15,
   "id": "weird-housing",
   "metadata": {},
   "outputs": [],
   "source": [
    "import numpy as np"
   ]
  },
  {
   "cell_type": "code",
   "execution_count": 18,
   "id": "brown-romance",
   "metadata": {},
   "outputs": [],
   "source": [
    "def initialize(distance_matrix, n):\n",
    "    min_idx = 0\n",
    "    solution = []\n",
    "    \n",
    "    solution.append(0)\n",
    "    \n",
    "    while True:\n",
    "        i = min_idx\n",
    "        min_dist = float('inf')\n",
    "        \n",
    "        for j in range(n):\n",
    "            if distance_matrix[i][j] < min_dist and i != j and j not in solution:\n",
    "                min_idx = j\n",
    "                min_dist = distance_matrix[i][j]\n",
    "                \n",
    "        solution.append(min_idx)\n",
    "        \n",
    "        if len(solution) == n:\n",
    "            break\n",
    "    \n",
    "    return solution"
   ]
  },
  {
   "cell_type": "code",
   "execution_count": 33,
   "id": "pressed-bullet",
   "metadata": {},
   "outputs": [],
   "source": [
    "def evaluate_solution(solution, distance_matrix, n):\n",
    "    total_distance = 0\n",
    "    \n",
    "    for i in range(n-1):\n",
    "        current_city = solution[i]\n",
    "        next_city = solution[i+1]\n",
    "        \n",
    "        total_distance += distance_matrix[current_city][next_city]\n",
    "        \n",
    "    total_distance += distance_matrix[solution[0]][solution[-1]]\n",
    "    \n",
    "    return total_distance"
   ]
  },
  {
   "cell_type": "code",
   "execution_count": 2,
   "id": "adopted-meter",
   "metadata": {},
   "outputs": [],
   "source": [
    "def tabu_search(distance_matrix, n, tabu_tenure, num_iters):\n",
    "    current_solution = initialize(distance_matrix, n)\n",
    "    current_value = evaluate_solution(solution, distance_matrix, n)\n",
    "    solution = current_solution\n",
    "    best_value = current_value\n",
    "    \n",
    "    for i in range(num_iters):\n",
    "        new_solution = modify(current_solution)\n",
    "        new_value = evaluate_solution(new_solution)\n",
    "        \n",
    "        if new_value < current_value and not tabu_active(new_solution):\n",
    "            current_value = new_value\n",
    "            current_solution = new_solution\n",
    "            tabu_list[str(new_solution)] = i + tabu_tenure\n",
    "            \n",
    "            if new_value < best_value:\n",
    "                best_value = new_value\n",
    "                solution = new_solution\n",
    "            "
   ]
  },
  {
   "cell_type": "code",
   "execution_count": 11,
   "id": "convertible-magazine",
   "metadata": {},
   "outputs": [],
   "source": [
    "def load_data(filename):\n",
    "    with open(filename, 'r') as f:\n",
    "        n = int(f.readline())\n",
    "        distance_matrix = [[int(j) for j in f.readline().split()] for i in range(n)]\n",
    "    return n, distance_matrix"
   ]
  },
  {
   "cell_type": "code",
   "execution_count": 34,
   "id": "likely-division",
   "metadata": {},
   "outputs": [
    {
     "data": {
      "text/plain": [
       "2187"
      ]
     },
     "execution_count": 34,
     "metadata": {},
     "output_type": "execute_result"
    }
   ],
   "source": [
    "n, distance_matrix = load_data('./sample_data/gr17.txt')\n",
    "\n",
    "solution = initialize(distance_matrix, n)\n",
    "val = evaluate_solution(solution, distance_matrix, n)\n",
    "val"
   ]
  },
  {
   "cell_type": "code",
   "execution_count": null,
   "id": "temporal-gothic",
   "metadata": {},
   "outputs": [],
   "source": []
  }
 ],
 "metadata": {
  "kernelspec": {
   "display_name": "Python 3",
   "language": "python",
   "name": "python3"
  },
  "language_info": {
   "codemirror_mode": {
    "name": "ipython",
    "version": 3
   },
   "file_extension": ".py",
   "mimetype": "text/x-python",
   "name": "python",
   "nbconvert_exporter": "python",
   "pygments_lexer": "ipython3",
   "version": "3.8.5"
  }
 },
 "nbformat": 4,
 "nbformat_minor": 5
}
