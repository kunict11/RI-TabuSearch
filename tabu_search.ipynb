{
 "cells": [
  {
   "cell_type": "code",
   "execution_count": 1,
   "id": "ce527bcc",
   "metadata": {},
   "outputs": [],
   "source": [
    "import numpy as np\n",
    "import random\n",
    "import pandas as pd\n",
    "import matplotlib.pyplot as plt \n",
    "import time\n",
    "from tqdm.notebook import tqdm\n",
    "from imports.local_search import local_search"
   ]
  },
  {
   "cell_type": "code",
   "execution_count": 2,
   "id": "8b41c928",
   "metadata": {},
   "outputs": [],
   "source": [
    "def initialize(distance_matrix, n):\n",
    "    min_idx = 0\n",
    "    solution = []\n",
    "    \n",
    "    solution.append(0)\n",
    "    \n",
    "    while True:\n",
    "        i = min_idx\n",
    "        min_dist = float('inf')\n",
    "        \n",
    "        for j in range(n):\n",
    "            if distance_matrix[i][j] < min_dist and i != j and j not in solution:\n",
    "                min_idx = j\n",
    "                min_dist = distance_matrix[i][j]\n",
    "                \n",
    "        solution.append(min_idx)\n",
    "        \n",
    "        if len(solution) == n:\n",
    "            break\n",
    "    \n",
    "    return solution"
   ]
  },
  {
   "cell_type": "code",
   "execution_count": 3,
   "id": "7f169048",
   "metadata": {},
   "outputs": [],
   "source": [
    "def evaluate_solution(solution, distance_matrix, n):\n",
    "    total_distance = 0\n",
    "    \n",
    "    for i in range(n-1):\n",
    "        current_city = solution[i]\n",
    "        next_city = solution[i+1]\n",
    "\n",
    "        total_distance += distance_matrix[current_city][next_city]\n",
    "        \n",
    "    total_distance += distance_matrix[solution[0]][solution[-1]]\n",
    "    \n",
    "    return total_distance"
   ]
  },
  {
   "cell_type": "code",
   "execution_count": 4,
   "id": "5d8a7fa0",
   "metadata": {},
   "outputs": [],
   "source": [
    "def modify(solution, n, distance_matrix, frequencies, tabu_list, tabu_tenure, it, best_value, diversification):\n",
    "    best = float('inf')\n",
    "    best_sol = []\n",
    "    penalty_coef = 10\n",
    "    \n",
    "    for i in range(n):\n",
    "        for j in range(i+1, n):\n",
    "            new_solution = solution[:];\n",
    "            new_solution[i], new_solution[j] = new_solution[j], new_solution[i]\n",
    "            \n",
    "            if diversification:\n",
    "                other = list(filter(lambda x: x!=i and x!=j, range(n)))\n",
    "                \n",
    "                r1, r2 = random.sample(other, 2)\n",
    "                new_solution[r1], new_solution[r2] = new_solution[r2], new_solution[r1]\n",
    "            \n",
    "            new_val = evaluate_solution(new_solution, distance_matrix, n)\n",
    "            value_with_penalty = new_val + penalty_coef*frequencies[new_solution[i]][new_solution[j]]\n",
    "            \n",
    "            if new_val < best_value or value_with_penalty < best and not tabu_active(new_solution[i], tabu_list, it) and not tabu_active(new_solution[j], tabu_list, it):\n",
    "                best = new_val\n",
    "                best_sol = new_solution\n",
    "                tabu_list[new_solution[i]] = tabu_tenure + it\n",
    "                tabu_list[new_solution[j]] = tabu_tenure + it\n",
    "                frequencies[new_solution[i]][new_solution[j]] += 1\n",
    "\n",
    "    return best_sol, best, new_solution[i], new_solution[j]"
   ]
  },
  {
   "cell_type": "code",
   "execution_count": 18,
   "id": "83203b84",
   "metadata": {},
   "outputs": [],
   "source": [
    "def tabu_active(p, tabu_list, iteration):\n",
    "    if tabu_list[p] > iteration:\n",
    "        return True\n",
    "    return False"
   ]
  },
  {
   "cell_type": "code",
   "execution_count": 38,
   "id": "a03fc157",
   "metadata": {},
   "outputs": [],
   "source": [
    "def intensification(solution, distance_matrix, n):\n",
    "    best = float('inf')\n",
    "    best_sol = []\n",
    "    penalty_coef = 10\n",
    "    \n",
    "    for i in range(n):\n",
    "        for j in range(i+1, n):\n",
    "            new_solution = solution[:];\n",
    "            new_solution[i], new_solution[j] = new_solution[j], new_solution[i]\n",
    "            \n",
    "            new_val = evaluate_solution(new_solution, distance_matrix, n)\n",
    "            \n",
    "            if new_val < best:\n",
    "                best = new_val\n",
    "                best_sol = new_solution\n",
    "                \n",
    "    return best_sol, best"
   ]
  },
  {
   "cell_type": "code",
   "execution_count": 57,
   "id": "3e543d77",
   "metadata": {},
   "outputs": [],
   "source": [
    "def tabu_search(distance_matrix, n, tabu_tenure, num_iters):\n",
    "\n",
    "    current_solution = initialize(distance_matrix, n)\n",
    "    current_value = evaluate_solution(current_solution, distance_matrix, n)\n",
    "    solution = current_solution\n",
    "    best_value = current_value\n",
    "    \n",
    "    tabu_list = np.zeros(n)\n",
    "    frequencies = np.zeros((n,n), dtype=int)\n",
    "    no_improvement = 0\n",
    "    diversification = False\n",
    "    diversification_size = 0\n",
    "    \n",
    "    # intermediate memory size\n",
    "    m = 10\n",
    "    intermediate_memory = []\n",
    "    \n",
    "    for i in range(num_iters):\n",
    "        \n",
    "        if no_improvement >= 10:\n",
    "            diversification = True\n",
    "            \n",
    "            if no_improvement % 20 == 0 and n > 20:\n",
    "                diversification_size += 1\n",
    "        \n",
    "        current_solution, current_value, p1, p2 = modify(solution, n, distance_matrix, frequencies, tabu_list, tabu_tenure, i, best_value, diversification_size)\n",
    "        \n",
    "        if len(intermediate_memory) < m:\n",
    "            intermediate_memory.append([current_solution, current_value])\n",
    "        else:\n",
    "            intermediate_memory.sort(key=lambda x: x[1])\n",
    "            if current_value < intermediate_memory[m-1][1]:\n",
    "                intermediate_memory[m-1] = [current_solution, current_value]\n",
    "        \n",
    "        if current_value < best_value:\n",
    "            solution = current_solution\n",
    "            best_value = current_value\n",
    "            no_improvement = 0\n",
    "        \n",
    "        else:\n",
    "            no_improvement += 1\n",
    "            \n",
    "    for elite_solution in intermediate_memory:\n",
    "        current = elite_solution[0]\n",
    "        value = elite_solution[1]\n",
    "        for i in range(num_iters//50):\n",
    "            modified_sol, new_value = intensification(current, distance_matrix, n)\n",
    "            \n",
    "            current = modified_sol\n",
    "            value = new_value\n",
    "            \n",
    "            if value < best_value:\n",
    "                solution = current\n",
    "                best_value = value\n",
    "\n",
    "    return solution, best_value"
   ]
  },
  {
   "cell_type": "code",
   "execution_count": 46,
   "id": "fc7f4bc2",
   "metadata": {},
   "outputs": [],
   "source": [
    "def load_data(filename):\n",
    "    with open(filename, 'r') as f:\n",
    "        n = int(f.readline())\n",
    "        distance_matrix = [[int(j) for j in f.readline().split()] for i in range(n)]\n",
    "    return n, distance_matrix"
   ]
  },
  {
   "cell_type": "markdown",
   "id": "a6173fbc",
   "metadata": {},
   "source": [
    "Testing on the [GR17](https://people.sc.fsu.edu/~jburkardt/datasets/tsp/gr17_d.txt) dataset consisting of 17 cities"
   ]
  },
  {
   "cell_type": "code",
   "execution_count": 63,
   "id": "584859c3",
   "metadata": {},
   "outputs": [
    {
     "data": {
      "application/vnd.jupyter.widget-view+json": {
       "model_id": "2ee3ae8b01494e6a9f6b96f4e336841d",
       "version_major": 2,
       "version_minor": 0
      },
      "text/plain": [
       "  0%|          | 0/100 [00:00<?, ?it/s]"
      ]
     },
     "metadata": {},
     "output_type": "display_data"
    },
    {
     "name": "stdout",
     "output_type": "stream",
     "text": [
      "19\n",
      "0.0\n"
     ]
    }
   ],
   "source": [
    "n, distance_matrix = load_data('./sample_data/five_d.txt')\n",
    "#tabu_search(distance_matrix, n, 22, 1000)\n",
    "found = 0\n",
    "best = float('inf')\n",
    "for _ in tqdm(range(100)):\n",
    "    _, bestVal = tabu_search(distance_matrix, n, 11, 100)\n",
    "    if bestVal < best:\n",
    "        best = bestVal\n",
    "        \n",
    "    if bestVal == 2085:\n",
    "        found += 1\n",
    "        \n",
    "print(best)\n",
    "print(found/100)"
   ]
  },
  {
   "cell_type": "code",
   "execution_count": 28,
   "id": "252a798f",
   "metadata": {},
   "outputs": [],
   "source": [
    "#!pip3 install networkx"
   ]
  },
  {
   "cell_type": "code",
   "execution_count": 12,
   "id": "e7fe5caa",
   "metadata": {},
   "outputs": [],
   "source": [
    "import networkx as nx"
   ]
  },
  {
   "cell_type": "code",
   "execution_count": 11,
   "id": "324b82fb",
   "metadata": {},
   "outputs": [],
   "source": [
    "n, distance_matrix = load_data('./sample_data/five_d.txt')\n",
    "solution, best_value = tabu_search(distance_matrix, n, 11, 1000)"
   ]
  },
  {
   "cell_type": "code",
   "execution_count": 119,
   "id": "a39c2ce2",
   "metadata": {},
   "outputs": [],
   "source": [
    "G = nx.complete_graph(len(solution))\n",
    "\n",
    "edges = [solution[i:i+2] for i in range(0, len(solution)-1, 1)]\n",
    "edges.append([solution[-1], solution[0]])\n",
    "new_edges = []\n",
    "for i in range(len(edges)):\n",
    "    new_edges.append((edges[i][0], edges[i][1]))\n",
    "    new_edges.append((edges[i][1], edges[i][0]))\n",
    "# print(new_edges)\n",
    "# print(G.edges)"
   ]
  },
  {
   "cell_type": "code",
   "execution_count": 120,
   "id": "0b59cc49",
   "metadata": {},
   "outputs": [
    {
     "data": {
      "image/png": "[encoded data removed]",
      "text/plain": [
       "<Figure size 864x864 with 1 Axes>"
      ]
     },
     "metadata": {},
     "output_type": "display_data"
    }
   ],
   "source": [
    "colors = ['red' if e in new_edges else 'black' for e in G.edges]\n",
    "edge_labels = dict([((n1, n2), f'{distance_matrix[n1][n2]}') for n1, n2 in G.edges])\n",
    "pos = nx.spring_layout(G)\n",
    "\n",
    "fig = plt.figure(figsize=(12, 12))\n",
    "nx.draw(G, pos, edge_color=colors, width=1.3, with_labels=True, node_size=1000, font_size=20)\n",
    "nx.draw_networkx_edge_labels(G, pos, edge_labels=edge_labels, font_size=20)\n",
    "plt.show()"
   ]
  },
  {
   "cell_type": "markdown",
   "id": "6ad38286",
   "metadata": {},
   "source": [
    "Testing on examples from [TSPLIB95](http://comopt.ifi.uni-heidelberg.de/software/TSPLIB95/tsp/)"
   ]
  },
  {
   "cell_type": "code",
   "execution_count": 12,
   "id": "79fdd898",
   "metadata": {},
   "outputs": [],
   "source": [
    "#!pip install tsplib95"
   ]
  },
  {
   "cell_type": "code",
   "execution_count": 64,
   "id": "86aeeeb9",
   "metadata": {},
   "outputs": [],
   "source": [
    "import tsplib95"
   ]
  },
  {
   "cell_type": "code",
   "execution_count": 65,
   "id": "4701507a",
   "metadata": {},
   "outputs": [],
   "source": [
    "def load_TSPLIB95_problem(filepath):\n",
    "\n",
    "    problem = tsplib95.load(filepath)\n",
    "\n",
    "    graph = problem.get_graph()\n",
    "    n = graph.number_of_nodes()\n",
    "\n",
    "    distance_matrix = nx.convert_matrix.to_numpy_array(graph)\n",
    "    \n",
    "    np.fill_diagonal(distance_matrix, 0)\n",
    "    \n",
    "    return n, distance_matrix"
   ]
  },
  {
   "cell_type": "code",
   "execution_count": 66,
   "id": "0cd73f7b",
   "metadata": {},
   "outputs": [
    {
     "data": {
      "application/vnd.jupyter.widget-view+json": {
       "model_id": "57a5b07600f840c08ac919fd25406683",
       "version_major": 2,
       "version_minor": 0
      },
      "text/plain": [
       "  0%|          | 0/100 [00:00<?, ?it/s]"
      ]
     },
     "metadata": {},
     "output_type": "display_data"
    },
    {
     "ename": "KeyboardInterrupt",
     "evalue": "",
     "output_type": "error",
     "traceback": [
      "\u001b[1;31m---------------------------------------------------------------------------\u001b[0m",
      "\u001b[1;31mKeyboardInterrupt\u001b[0m                         Traceback (most recent call last)",
      "\u001b[1;32m<ipython-input-66-b8adcf245af5>\u001b[0m in \u001b[0;36m<module>\u001b[1;34m\u001b[0m\n\u001b[0;32m      4\u001b[0m \u001b[0mbest\u001b[0m \u001b[1;33m=\u001b[0m \u001b[0mfloat\u001b[0m\u001b[1;33m(\u001b[0m\u001b[1;34m'inf'\u001b[0m\u001b[1;33m)\u001b[0m\u001b[1;33m\u001b[0m\u001b[1;33m\u001b[0m\u001b[0m\n\u001b[0;32m      5\u001b[0m \u001b[1;32mfor\u001b[0m \u001b[0m_\u001b[0m \u001b[1;32min\u001b[0m \u001b[0mtqdm\u001b[0m\u001b[1;33m(\u001b[0m\u001b[0mrange\u001b[0m\u001b[1;33m(\u001b[0m\u001b[1;36m100\u001b[0m\u001b[1;33m)\u001b[0m\u001b[1;33m)\u001b[0m\u001b[1;33m:\u001b[0m\u001b[1;33m\u001b[0m\u001b[1;33m\u001b[0m\u001b[0m\n\u001b[1;32m----> 6\u001b[1;33m     \u001b[0m_\u001b[0m\u001b[1;33m,\u001b[0m \u001b[0mbestVal\u001b[0m \u001b[1;33m=\u001b[0m \u001b[0mtabu_search\u001b[0m\u001b[1;33m(\u001b[0m\u001b[0mdistance_matrix\u001b[0m\u001b[1;33m,\u001b[0m \u001b[0mn\u001b[0m\u001b[1;33m,\u001b[0m \u001b[1;36m11\u001b[0m\u001b[1;33m,\u001b[0m \u001b[1;36m100\u001b[0m\u001b[1;33m)\u001b[0m\u001b[1;33m\u001b[0m\u001b[1;33m\u001b[0m\u001b[0m\n\u001b[0m\u001b[0;32m      7\u001b[0m     \u001b[1;32mif\u001b[0m \u001b[0mbestVal\u001b[0m \u001b[1;33m<\u001b[0m \u001b[0mbest\u001b[0m\u001b[1;33m:\u001b[0m\u001b[1;33m\u001b[0m\u001b[1;33m\u001b[0m\u001b[0m\n\u001b[0;32m      8\u001b[0m         \u001b[0mbest\u001b[0m \u001b[1;33m=\u001b[0m \u001b[0mbestVal\u001b[0m\u001b[1;33m\u001b[0m\u001b[1;33m\u001b[0m\u001b[0m\n",
      "\u001b[1;32m<ipython-input-57-9dcf3cddf02b>\u001b[0m in \u001b[0;36mtabu_search\u001b[1;34m(distance_matrix, n, tabu_tenure, num_iters)\u001b[0m\n\u001b[0;32m     24\u001b[0m                 \u001b[0mdiversification_size\u001b[0m \u001b[1;33m+=\u001b[0m \u001b[1;36m1\u001b[0m\u001b[1;33m\u001b[0m\u001b[1;33m\u001b[0m\u001b[0m\n\u001b[0;32m     25\u001b[0m \u001b[1;33m\u001b[0m\u001b[0m\n\u001b[1;32m---> 26\u001b[1;33m         \u001b[0mcurrent_solution\u001b[0m\u001b[1;33m,\u001b[0m \u001b[0mcurrent_value\u001b[0m\u001b[1;33m,\u001b[0m \u001b[0mp1\u001b[0m\u001b[1;33m,\u001b[0m \u001b[0mp2\u001b[0m \u001b[1;33m=\u001b[0m \u001b[0mmodify\u001b[0m\u001b[1;33m(\u001b[0m\u001b[0msolution\u001b[0m\u001b[1;33m,\u001b[0m \u001b[0mn\u001b[0m\u001b[1;33m,\u001b[0m \u001b[0mdistance_matrix\u001b[0m\u001b[1;33m,\u001b[0m \u001b[0mfrequencies\u001b[0m\u001b[1;33m,\u001b[0m \u001b[0mtabu_list\u001b[0m\u001b[1;33m,\u001b[0m \u001b[0mtabu_tenure\u001b[0m\u001b[1;33m,\u001b[0m \u001b[0mi\u001b[0m\u001b[1;33m,\u001b[0m \u001b[0mbest_value\u001b[0m\u001b[1;33m,\u001b[0m \u001b[0mdiversification_size\u001b[0m\u001b[1;33m)\u001b[0m\u001b[1;33m\u001b[0m\u001b[1;33m\u001b[0m\u001b[0m\n\u001b[0m\u001b[0;32m     27\u001b[0m \u001b[1;33m\u001b[0m\u001b[0m\n\u001b[0;32m     28\u001b[0m         \u001b[1;32mif\u001b[0m \u001b[0mlen\u001b[0m\u001b[1;33m(\u001b[0m\u001b[0mintermediate_memory\u001b[0m\u001b[1;33m)\u001b[0m \u001b[1;33m<\u001b[0m \u001b[0mm\u001b[0m\u001b[1;33m:\u001b[0m\u001b[1;33m\u001b[0m\u001b[1;33m\u001b[0m\u001b[0m\n",
      "\u001b[1;32m<ipython-input-4-b5aa37a44b5e>\u001b[0m in \u001b[0;36mmodify\u001b[1;34m(solution, n, distance_matrix, frequencies, tabu_list, tabu_tenure, it, best_value, diversification)\u001b[0m\n\u001b[0;32m     15\u001b[0m                 \u001b[0mnew_solution\u001b[0m\u001b[1;33m[\u001b[0m\u001b[0mr1\u001b[0m\u001b[1;33m]\u001b[0m\u001b[1;33m,\u001b[0m \u001b[0mnew_solution\u001b[0m\u001b[1;33m[\u001b[0m\u001b[0mr2\u001b[0m\u001b[1;33m]\u001b[0m \u001b[1;33m=\u001b[0m \u001b[0mnew_solution\u001b[0m\u001b[1;33m[\u001b[0m\u001b[0mr2\u001b[0m\u001b[1;33m]\u001b[0m\u001b[1;33m,\u001b[0m \u001b[0mnew_solution\u001b[0m\u001b[1;33m[\u001b[0m\u001b[0mr1\u001b[0m\u001b[1;33m]\u001b[0m\u001b[1;33m\u001b[0m\u001b[1;33m\u001b[0m\u001b[0m\n\u001b[0;32m     16\u001b[0m \u001b[1;33m\u001b[0m\u001b[0m\n\u001b[1;32m---> 17\u001b[1;33m             \u001b[0mnew_val\u001b[0m \u001b[1;33m=\u001b[0m \u001b[0mevaluate_solution\u001b[0m\u001b[1;33m(\u001b[0m\u001b[0mnew_solution\u001b[0m\u001b[1;33m,\u001b[0m \u001b[0mdistance_matrix\u001b[0m\u001b[1;33m,\u001b[0m \u001b[0mn\u001b[0m\u001b[1;33m)\u001b[0m\u001b[1;33m\u001b[0m\u001b[1;33m\u001b[0m\u001b[0m\n\u001b[0m\u001b[0;32m     18\u001b[0m             \u001b[0mvalue_with_penalty\u001b[0m \u001b[1;33m=\u001b[0m \u001b[0mnew_val\u001b[0m \u001b[1;33m+\u001b[0m \u001b[0mpenalty_coef\u001b[0m\u001b[1;33m*\u001b[0m\u001b[0mfrequencies\u001b[0m\u001b[1;33m[\u001b[0m\u001b[0mnew_solution\u001b[0m\u001b[1;33m[\u001b[0m\u001b[0mi\u001b[0m\u001b[1;33m]\u001b[0m\u001b[1;33m]\u001b[0m\u001b[1;33m[\u001b[0m\u001b[0mnew_solution\u001b[0m\u001b[1;33m[\u001b[0m\u001b[0mj\u001b[0m\u001b[1;33m]\u001b[0m\u001b[1;33m]\u001b[0m\u001b[1;33m\u001b[0m\u001b[1;33m\u001b[0m\u001b[0m\n\u001b[0;32m     19\u001b[0m \u001b[1;33m\u001b[0m\u001b[0m\n",
      "\u001b[1;32m<ipython-input-3-9da85e09c6a4>\u001b[0m in \u001b[0;36mevaluate_solution\u001b[1;34m(solution, distance_matrix, n)\u001b[0m\n\u001b[0;32m      3\u001b[0m \u001b[1;33m\u001b[0m\u001b[0m\n\u001b[0;32m      4\u001b[0m     \u001b[1;32mfor\u001b[0m \u001b[0mi\u001b[0m \u001b[1;32min\u001b[0m \u001b[0mrange\u001b[0m\u001b[1;33m(\u001b[0m\u001b[0mn\u001b[0m\u001b[1;33m-\u001b[0m\u001b[1;36m1\u001b[0m\u001b[1;33m)\u001b[0m\u001b[1;33m:\u001b[0m\u001b[1;33m\u001b[0m\u001b[1;33m\u001b[0m\u001b[0m\n\u001b[1;32m----> 5\u001b[1;33m         \u001b[0mcurrent_city\u001b[0m \u001b[1;33m=\u001b[0m \u001b[0msolution\u001b[0m\u001b[1;33m[\u001b[0m\u001b[0mi\u001b[0m\u001b[1;33m]\u001b[0m\u001b[1;33m\u001b[0m\u001b[1;33m\u001b[0m\u001b[0m\n\u001b[0m\u001b[0;32m      6\u001b[0m         \u001b[0mnext_city\u001b[0m \u001b[1;33m=\u001b[0m \u001b[0msolution\u001b[0m\u001b[1;33m[\u001b[0m\u001b[0mi\u001b[0m\u001b[1;33m+\u001b[0m\u001b[1;36m1\u001b[0m\u001b[1;33m]\u001b[0m\u001b[1;33m\u001b[0m\u001b[1;33m\u001b[0m\u001b[0m\n\u001b[0;32m      7\u001b[0m \u001b[1;33m\u001b[0m\u001b[0m\n",
      "\u001b[1;31mKeyboardInterrupt\u001b[0m: "
     ]
    }
   ],
   "source": [
    "n, distance_matrix = load_TSPLIB95_problem('./sample_data/bier127.tsp')\n",
    "\n",
    "found = 0\n",
    "best = float('inf')\n",
    "for _ in tqdm(range(100)):\n",
    "    _, bestVal = tabu_search(distance_matrix, n, 11, 100)\n",
    "    if bestVal < best:\n",
    "        best = bestVal\n",
    "        \n",
    "print(best)"
   ]
  },
  {
   "cell_type": "code",
   "execution_count": 67,
   "id": "8084f3bb",
   "metadata": {},
   "outputs": [],
   "source": [
    "datasets = {\n",
    "    'five_d'    : { 'filepath': './sample_data/five_d.txt'   , 'type': 'txt'   , 'best_known': 19     },\n",
    "    'p01_d'     : { 'filepath': './sample_data/p01_d.txt'    , 'type': 'txt'   , 'best_known': 291    },\n",
    "    'gr17'      : { 'filepath': './sample_data/gr17.txt'     , 'type': 'txt'   , 'best_known': 2085   },\n",
    "    'ulysses22' : { 'filepath': './sample_data/ulysses22.tsp', 'type': 'tsplib', 'best_known': 7013   },\n",
    "    'att48'     : { 'filepath': './sample_data/att48.tsp'    , 'type': 'tsplib', 'best_known': 10628  },\n",
    "    'berlin52'  : { 'filepath': './sample_data/berlin52.tsp' , 'type': 'tsplib', 'best_known': 7542   },\n",
    "    'bier127'   : { 'filepath': './sample_data/bier127.tsp'  , 'type': 'tsplib', 'best_known': 118282 },\n",
    "    'gr202'     : { 'filepath': './sample_data/gr202.tsp'    , 'type': 'tsplib', 'best_known': 40160  },\n",
    "}\n",
    "\n",
    "MAX_ITERS = 100"
   ]
  },
  {
   "cell_type": "code",
   "execution_count": 68,
   "id": "120b3b62",
   "metadata": {},
   "outputs": [],
   "source": [
    "def run_tests(algorithm, num_iters):\n",
    "    results = []\n",
    "    for key in datasets:\n",
    "        if datasets[key]['type'] == 'txt':\n",
    "            n, distance_matrix = load_data(datasets[key]['filepath'])\n",
    "        else:\n",
    "            n, distance_matrix = load_TSPLIB95_problem(datasets[key]['filepath'])\n",
    "        \n",
    "        best_found = float('inf')\n",
    "        total_time = 0\n",
    "            \n",
    "        for _ in tqdm(range(MAX_ITERS), desc=key):\n",
    "\n",
    "            start_time = time.time()\n",
    "\n",
    "            if algorithm == 'tabu_search':\n",
    "                tabu_tenure = 11\n",
    "                _, best = tabu_search(distance_matrix, n, tabu_tenure, num_iters)\n",
    "            elif algorithm == 'local_search':\n",
    "                _, best = local_search(distance_matrix, n, num_iters)\n",
    "\n",
    "            end_time = time.time()\n",
    "\n",
    "            total_time += end_time - start_time \n",
    "\n",
    "            if best < best_found:\n",
    "                best_found = best\n",
    "                \n",
    "        diff = abs(best_found - datasets[key]['best_known'])*100 / datasets[key]['best_known']\n",
    "        avg_time = total_time / MAX_ITERS\n",
    "        results.append([key, n, avg_time, datasets[key]['best_known'], int(best_found), diff])\n",
    "        \n",
    "    df = pd.DataFrame(results, columns=['Dataset', 'Number of Cities', 'Average Time (s)', 'Best Known', 'Best Found', 'Difference (%)'])\n",
    "    \n",
    "    return df.style.hide_index()"
   ]
  },
  {
   "cell_type": "markdown",
   "id": "9327cbc2",
   "metadata": {},
   "source": [
    "## Test results for Tabu Search"
   ]
  },
  {
   "cell_type": "code",
   "execution_count": 69,
   "id": "2326c725",
   "metadata": {},
   "outputs": [
    {
     "data": {
      "application/vnd.jupyter.widget-view+json": {
       "model_id": "c4940d024f1744b3b2b83bfab2eca0ec",
       "version_major": 2,
       "version_minor": 0
      },
      "text/plain": [
       "five_d:   0%|          | 0/100 [00:00<?, ?it/s]"
      ]
     },
     "metadata": {},
     "output_type": "display_data"
    },
    {
     "data": {
      "application/vnd.jupyter.widget-view+json": {
       "model_id": "2a0ddeb5c6884eb68ee905a038d4b240",
       "version_major": 2,
       "version_minor": 0
      },
      "text/plain": [
       "p01_d:   0%|          | 0/100 [00:00<?, ?it/s]"
      ]
     },
     "metadata": {},
     "output_type": "display_data"
    },
    {
     "data": {
      "application/vnd.jupyter.widget-view+json": {
       "model_id": "b7bb55306ba342219f51306a6fb6b4ae",
       "version_major": 2,
       "version_minor": 0
      },
      "text/plain": [
       "gr17:   0%|          | 0/100 [00:00<?, ?it/s]"
      ]
     },
     "metadata": {},
     "output_type": "display_data"
    },
    {
     "data": {
      "application/vnd.jupyter.widget-view+json": {
       "model_id": "f956af0d4d324d6e873dae43fc304438",
       "version_major": 2,
       "version_minor": 0
      },
      "text/plain": [
       "ulysses22:   0%|          | 0/100 [00:00<?, ?it/s]"
      ]
     },
     "metadata": {},
     "output_type": "display_data"
    },
    {
     "data": {
      "application/vnd.jupyter.widget-view+json": {
       "model_id": "c57c2e39fb24449dae0024a881ae0cd1",
       "version_major": 2,
       "version_minor": 0
      },
      "text/plain": [
       "att48:   0%|          | 0/100 [00:00<?, ?it/s]"
      ]
     },
     "metadata": {},
     "output_type": "display_data"
    },
    {
     "data": {
      "application/vnd.jupyter.widget-view+json": {
       "model_id": "bac1830eaa2649f09972a415c72f56c3",
       "version_major": 2,
       "version_minor": 0
      },
      "text/plain": [
       "berlin52:   0%|          | 0/100 [00:00<?, ?it/s]"
      ]
     },
     "metadata": {},
     "output_type": "display_data"
    },
    {
     "data": {
      "application/vnd.jupyter.widget-view+json": {
       "model_id": "b0dcd6d2580f45f79f364701e09bd7a0",
       "version_major": 2,
       "version_minor": 0
      },
      "text/plain": [
       "bier127:   0%|          | 0/100 [00:00<?, ?it/s]"
      ]
     },
     "metadata": {},
     "output_type": "display_data"
    },
    {
     "data": {
      "application/vnd.jupyter.widget-view+json": {
       "model_id": "2e3011a356cd46e6b146a28cdb8a088e",
       "version_major": 2,
       "version_minor": 0
      },
      "text/plain": [
       "gr202:   0%|          | 0/100 [00:00<?, ?it/s]"
      ]
     },
     "metadata": {},
     "output_type": "display_data"
    },
    {
     "data": {
      "text/html": [
       "<style  type=\"text/css\" >\n",
       "</style><table id=\"T_92e84_\" ><thead>    <tr>        <th class=\"col_heading level0 col0\" >Dataset</th>        <th class=\"col_heading level0 col1\" >Number of Cities</th>        <th class=\"col_heading level0 col2\" >Average Time (s)</th>        <th class=\"col_heading level0 col3\" >Best Known</th>        <th class=\"col_heading level0 col4\" >Best Found</th>        <th class=\"col_heading level0 col5\" >Difference (%)</th>    </tr></thead><tbody>\n",
       "                <tr>\n",
       "                                <td id=\"T_92e84_row0_col0\" class=\"data row0 col0\" >five_d</td>\n",
       "                        <td id=\"T_92e84_row0_col1\" class=\"data row0 col1\" >5</td>\n",
       "                        <td id=\"T_92e84_row0_col2\" class=\"data row0 col2\" >0.007322</td>\n",
       "                        <td id=\"T_92e84_row0_col3\" class=\"data row0 col3\" >19</td>\n",
       "                        <td id=\"T_92e84_row0_col4\" class=\"data row0 col4\" >19</td>\n",
       "                        <td id=\"T_92e84_row0_col5\" class=\"data row0 col5\" >0.000000</td>\n",
       "            </tr>\n",
       "            <tr>\n",
       "                                <td id=\"T_92e84_row1_col0\" class=\"data row1 col0\" >p01_d</td>\n",
       "                        <td id=\"T_92e84_row1_col1\" class=\"data row1 col1\" >15</td>\n",
       "                        <td id=\"T_92e84_row1_col2\" class=\"data row1 col2\" >0.098533</td>\n",
       "                        <td id=\"T_92e84_row1_col3\" class=\"data row1 col3\" >291</td>\n",
       "                        <td id=\"T_92e84_row1_col4\" class=\"data row1 col4\" >291</td>\n",
       "                        <td id=\"T_92e84_row1_col5\" class=\"data row1 col5\" >0.000000</td>\n",
       "            </tr>\n",
       "            <tr>\n",
       "                                <td id=\"T_92e84_row2_col0\" class=\"data row2 col0\" >gr17</td>\n",
       "                        <td id=\"T_92e84_row2_col1\" class=\"data row2 col1\" >17</td>\n",
       "                        <td id=\"T_92e84_row2_col2\" class=\"data row2 col2\" >0.132200</td>\n",
       "                        <td id=\"T_92e84_row2_col3\" class=\"data row2 col3\" >2085</td>\n",
       "                        <td id=\"T_92e84_row2_col4\" class=\"data row2 col4\" >2085</td>\n",
       "                        <td id=\"T_92e84_row2_col5\" class=\"data row2 col5\" >0.000000</td>\n",
       "            </tr>\n",
       "            <tr>\n",
       "                                <td id=\"T_92e84_row3_col0\" class=\"data row3 col0\" >ulysses22</td>\n",
       "                        <td id=\"T_92e84_row3_col1\" class=\"data row3 col1\" >22</td>\n",
       "                        <td id=\"T_92e84_row3_col2\" class=\"data row3 col2\" >0.623500</td>\n",
       "                        <td id=\"T_92e84_row3_col3\" class=\"data row3 col3\" >7013</td>\n",
       "                        <td id=\"T_92e84_row3_col4\" class=\"data row3 col4\" >7013</td>\n",
       "                        <td id=\"T_92e84_row3_col5\" class=\"data row3 col5\" >0.000000</td>\n",
       "            </tr>\n",
       "            <tr>\n",
       "                                <td id=\"T_92e84_row4_col0\" class=\"data row4 col0\" >att48</td>\n",
       "                        <td id=\"T_92e84_row4_col1\" class=\"data row4 col1\" >48</td>\n",
       "                        <td id=\"T_92e84_row4_col2\" class=\"data row4 col2\" >5.080123</td>\n",
       "                        <td id=\"T_92e84_row4_col3\" class=\"data row4 col3\" >10628</td>\n",
       "                        <td id=\"T_92e84_row4_col4\" class=\"data row4 col4\" >11608</td>\n",
       "                        <td id=\"T_92e84_row4_col5\" class=\"data row4 col5\" >9.220926</td>\n",
       "            </tr>\n",
       "            <tr>\n",
       "                                <td id=\"T_92e84_row5_col0\" class=\"data row5 col0\" >berlin52</td>\n",
       "                        <td id=\"T_92e84_row5_col1\" class=\"data row5 col1\" >52</td>\n",
       "                        <td id=\"T_92e84_row5_col2\" class=\"data row5 col2\" >6.402325</td>\n",
       "                        <td id=\"T_92e84_row5_col3\" class=\"data row5 col3\" >7542</td>\n",
       "                        <td id=\"T_92e84_row5_col4\" class=\"data row5 col4\" >8227</td>\n",
       "                        <td id=\"T_92e84_row5_col5\" class=\"data row5 col5\" >9.082471</td>\n",
       "            </tr>\n",
       "            <tr>\n",
       "                                <td id=\"T_92e84_row6_col0\" class=\"data row6 col0\" >bier127</td>\n",
       "                        <td id=\"T_92e84_row6_col1\" class=\"data row6 col1\" >127</td>\n",
       "                        <td id=\"T_92e84_row6_col2\" class=\"data row6 col2\" >86.536863</td>\n",
       "                        <td id=\"T_92e84_row6_col3\" class=\"data row6 col3\" >118282</td>\n",
       "                        <td id=\"T_92e84_row6_col4\" class=\"data row6 col4\" >124804</td>\n",
       "                        <td id=\"T_92e84_row6_col5\" class=\"data row6 col5\" >5.513941</td>\n",
       "            </tr>\n",
       "            <tr>\n",
       "                                <td id=\"T_92e84_row7_col0\" class=\"data row7 col0\" >gr202</td>\n",
       "                        <td id=\"T_92e84_row7_col1\" class=\"data row7 col1\" >202</td>\n",
       "                        <td id=\"T_92e84_row7_col2\" class=\"data row7 col2\" >323.226017</td>\n",
       "                        <td id=\"T_92e84_row7_col3\" class=\"data row7 col3\" >40160</td>\n",
       "                        <td id=\"T_92e84_row7_col4\" class=\"data row7 col4\" >45342</td>\n",
       "                        <td id=\"T_92e84_row7_col5\" class=\"data row7 col5\" >12.903386</td>\n",
       "            </tr>\n",
       "    </tbody></table>"
      ],
      "text/plain": [
       "<pandas.io.formats.style.Styler at 0x1c750a14cd0>"
      ]
     },
     "execution_count": 69,
     "metadata": {},
     "output_type": "execute_result"
    }
   ],
   "source": [
    "run_tests('tabu_search', 100)"
   ]
  },
  {
   "cell_type": "markdown",
   "id": "9b3c9c85",
   "metadata": {},
   "source": [
    "## Test results for Local Search"
   ]
  },
  {
   "cell_type": "code",
   "execution_count": 31,
   "id": "7b93a60b",
   "metadata": {},
   "outputs": [
    {
     "data": {
      "application/vnd.jupyter.widget-view+json": {
       "model_id": "555530de8ec949468995c10ab551275e",
       "version_major": 2,
       "version_minor": 0
      },
      "text/plain": [
       "five_d:   0%|          | 0/1000 [00:00<?, ?it/s]"
      ]
     },
     "metadata": {},
     "output_type": "display_data"
    },
    {
     "data": {
      "application/vnd.jupyter.widget-view+json": {
       "model_id": "67a4dece870e4a1694ea9997259dd586",
       "version_major": 2,
       "version_minor": 0
      },
      "text/plain": [
       "p01_d:   0%|          | 0/1000 [00:00<?, ?it/s]"
      ]
     },
     "metadata": {},
     "output_type": "display_data"
    },
    {
     "data": {
      "application/vnd.jupyter.widget-view+json": {
       "model_id": "8e1cf8a7fffa41b699bcd1bf393fad16",
       "version_major": 2,
       "version_minor": 0
      },
      "text/plain": [
       "gr17:   0%|          | 0/1000 [00:00<?, ?it/s]"
      ]
     },
     "metadata": {},
     "output_type": "display_data"
    },
    {
     "data": {
      "application/vnd.jupyter.widget-view+json": {
       "model_id": "dbb2acb71a4d429d80d5b246b712645b",
       "version_major": 2,
       "version_minor": 0
      },
      "text/plain": [
       "ulysses22:   0%|          | 0/1000 [00:00<?, ?it/s]"
      ]
     },
     "metadata": {},
     "output_type": "display_data"
    },
    {
     "data": {
      "application/vnd.jupyter.widget-view+json": {
       "model_id": "e980cdf5aa8c4d288c5fa514d7086296",
       "version_major": 2,
       "version_minor": 0
      },
      "text/plain": [
       "att48:   0%|          | 0/1000 [00:00<?, ?it/s]"
      ]
     },
     "metadata": {},
     "output_type": "display_data"
    },
    {
     "data": {
      "application/vnd.jupyter.widget-view+json": {
       "model_id": "05cd23f87f4e40a597337a5d4742c0d5",
       "version_major": 2,
       "version_minor": 0
      },
      "text/plain": [
       "berlin52:   0%|          | 0/1000 [00:00<?, ?it/s]"
      ]
     },
     "metadata": {},
     "output_type": "display_data"
    },
    {
     "data": {
      "application/vnd.jupyter.widget-view+json": {
       "model_id": "b52c2e37d12c48bfbc8cc76c0b549878",
       "version_major": 2,
       "version_minor": 0
      },
      "text/plain": [
       "bier127:   0%|          | 0/1000 [00:00<?, ?it/s]"
      ]
     },
     "metadata": {},
     "output_type": "display_data"
    },
    {
     "data": {
      "application/vnd.jupyter.widget-view+json": {
       "model_id": "93a41000a5bb4c3bb1f95a07de5a26f0",
       "version_major": 2,
       "version_minor": 0
      },
      "text/plain": [
       "gr202:   0%|          | 0/1000 [00:00<?, ?it/s]"
      ]
     },
     "metadata": {},
     "output_type": "display_data"
    },
    {
     "data": {
      "application/vnd.jupyter.widget-view+json": {
       "model_id": "7692dcd102f749c4b387d75a09738655",
       "version_major": 2,
       "version_minor": 0
      },
      "text/plain": [
       "gr666:   0%|          | 0/1000 [00:00<?, ?it/s]"
      ]
     },
     "metadata": {},
     "output_type": "display_data"
    },
    {
     "data": {
      "application/vnd.jupyter.widget-view+json": {
       "model_id": "113858d7fb2e4c858491eecb02cc15be",
       "version_major": 2,
       "version_minor": 0
      },
      "text/plain": [
       "pr1002:   0%|          | 0/1000 [00:00<?, ?it/s]"
      ]
     },
     "metadata": {},
     "output_type": "display_data"
    },
    {
     "data": {
      "text/html": [
       "<style  type=\"text/css\" >\n",
       "</style><table id=\"T_3c405_\" ><thead>    <tr>        <th class=\"col_heading level0 col0\" >Dataset</th>        <th class=\"col_heading level0 col1\" >Number of Cities</th>        <th class=\"col_heading level0 col2\" >Average Time (s)</th>        <th class=\"col_heading level0 col3\" >Best Known</th>        <th class=\"col_heading level0 col4\" >Best Found</th>        <th class=\"col_heading level0 col5\" >Difference (%)</th>    </tr></thead><tbody>\n",
       "                <tr>\n",
       "                                <td id=\"T_3c405_row0_col0\" class=\"data row0 col0\" >five_d</td>\n",
       "                        <td id=\"T_3c405_row0_col1\" class=\"data row0 col1\" >5</td>\n",
       "                        <td id=\"T_3c405_row0_col2\" class=\"data row0 col2\" >0.004532</td>\n",
       "                        <td id=\"T_3c405_row0_col3\" class=\"data row0 col3\" >19</td>\n",
       "                        <td id=\"T_3c405_row0_col4\" class=\"data row0 col4\" >19</td>\n",
       "                        <td id=\"T_3c405_row0_col5\" class=\"data row0 col5\" >0.000000</td>\n",
       "            </tr>\n",
       "            <tr>\n",
       "                                <td id=\"T_3c405_row1_col0\" class=\"data row1 col0\" >p01_d</td>\n",
       "                        <td id=\"T_3c405_row1_col1\" class=\"data row1 col1\" >15</td>\n",
       "                        <td id=\"T_3c405_row1_col2\" class=\"data row1 col2\" >0.006672</td>\n",
       "                        <td id=\"T_3c405_row1_col3\" class=\"data row1 col3\" >291</td>\n",
       "                        <td id=\"T_3c405_row1_col4\" class=\"data row1 col4\" >291</td>\n",
       "                        <td id=\"T_3c405_row1_col5\" class=\"data row1 col5\" >0.000000</td>\n",
       "            </tr>\n",
       "            <tr>\n",
       "                                <td id=\"T_3c405_row2_col0\" class=\"data row2 col0\" >gr17</td>\n",
       "                        <td id=\"T_3c405_row2_col1\" class=\"data row2 col1\" >17</td>\n",
       "                        <td id=\"T_3c405_row2_col2\" class=\"data row2 col2\" >0.007269</td>\n",
       "                        <td id=\"T_3c405_row2_col3\" class=\"data row2 col3\" >2085</td>\n",
       "                        <td id=\"T_3c405_row2_col4\" class=\"data row2 col4\" >2085</td>\n",
       "                        <td id=\"T_3c405_row2_col5\" class=\"data row2 col5\" >0.000000</td>\n",
       "            </tr>\n",
       "            <tr>\n",
       "                                <td id=\"T_3c405_row3_col0\" class=\"data row3 col0\" >ulysses22</td>\n",
       "                        <td id=\"T_3c405_row3_col1\" class=\"data row3 col1\" >22</td>\n",
       "                        <td id=\"T_3c405_row3_col2\" class=\"data row3 col2\" >0.019997</td>\n",
       "                        <td id=\"T_3c405_row3_col3\" class=\"data row3 col3\" >7013</td>\n",
       "                        <td id=\"T_3c405_row3_col4\" class=\"data row3 col4\" >7013</td>\n",
       "                        <td id=\"T_3c405_row3_col5\" class=\"data row3 col5\" >0.000000</td>\n",
       "            </tr>\n",
       "            <tr>\n",
       "                                <td id=\"T_3c405_row4_col0\" class=\"data row4 col0\" >att48</td>\n",
       "                        <td id=\"T_3c405_row4_col1\" class=\"data row4 col1\" >48</td>\n",
       "                        <td id=\"T_3c405_row4_col2\" class=\"data row4 col2\" >0.041447</td>\n",
       "                        <td id=\"T_3c405_row4_col3\" class=\"data row4 col3\" >10628</td>\n",
       "                        <td id=\"T_3c405_row4_col4\" class=\"data row4 col4\" >12221</td>\n",
       "                        <td id=\"T_3c405_row4_col5\" class=\"data row4 col5\" >14.988709</td>\n",
       "            </tr>\n",
       "            <tr>\n",
       "                                <td id=\"T_3c405_row5_col0\" class=\"data row5 col0\" >berlin52</td>\n",
       "                        <td id=\"T_3c405_row5_col1\" class=\"data row5 col1\" >52</td>\n",
       "                        <td id=\"T_3c405_row5_col2\" class=\"data row5 col2\" >0.045853</td>\n",
       "                        <td id=\"T_3c405_row5_col3\" class=\"data row5 col3\" >7542</td>\n",
       "                        <td id=\"T_3c405_row5_col4\" class=\"data row5 col4\" >8542</td>\n",
       "                        <td id=\"T_3c405_row5_col5\" class=\"data row5 col5\" >13.259082</td>\n",
       "            </tr>\n",
       "            <tr>\n",
       "                                <td id=\"T_3c405_row6_col0\" class=\"data row6 col0\" >bier127</td>\n",
       "                        <td id=\"T_3c405_row6_col1\" class=\"data row6 col1\" >127</td>\n",
       "                        <td id=\"T_3c405_row6_col2\" class=\"data row6 col2\" >0.114586</td>\n",
       "                        <td id=\"T_3c405_row6_col3\" class=\"data row6 col3\" >118282</td>\n",
       "                        <td id=\"T_3c405_row6_col4\" class=\"data row6 col4\" >126362</td>\n",
       "                        <td id=\"T_3c405_row6_col5\" class=\"data row6 col5\" >6.831132</td>\n",
       "            </tr>\n",
       "            <tr>\n",
       "                                <td id=\"T_3c405_row7_col0\" class=\"data row7 col0\" >gr202</td>\n",
       "                        <td id=\"T_3c405_row7_col1\" class=\"data row7 col1\" >202</td>\n",
       "                        <td id=\"T_3c405_row7_col2\" class=\"data row7 col2\" >0.190375</td>\n",
       "                        <td id=\"T_3c405_row7_col3\" class=\"data row7 col3\" >40160</td>\n",
       "                        <td id=\"T_3c405_row7_col4\" class=\"data row7 col4\" >47646</td>\n",
       "                        <td id=\"T_3c405_row7_col5\" class=\"data row7 col5\" >18.640438</td>\n",
       "            </tr>\n",
       "            <tr>\n",
       "                                <td id=\"T_3c405_row8_col0\" class=\"data row8 col0\" >gr666</td>\n",
       "                        <td id=\"T_3c405_row8_col1\" class=\"data row8 col1\" >666</td>\n",
       "                        <td id=\"T_3c405_row8_col2\" class=\"data row8 col2\" >0.789420</td>\n",
       "                        <td id=\"T_3c405_row8_col3\" class=\"data row8 col3\" >294358</td>\n",
       "                        <td id=\"T_3c405_row8_col4\" class=\"data row8 col4\" >365967</td>\n",
       "                        <td id=\"T_3c405_row8_col5\" class=\"data row8 col5\" >24.327180</td>\n",
       "            </tr>\n",
       "            <tr>\n",
       "                                <td id=\"T_3c405_row9_col0\" class=\"data row9 col0\" >pr1002</td>\n",
       "                        <td id=\"T_3c405_row9_col1\" class=\"data row9 col1\" >1002</td>\n",
       "                        <td id=\"T_3c405_row9_col2\" class=\"data row9 col2\" >1.928570</td>\n",
       "                        <td id=\"T_3c405_row9_col3\" class=\"data row9 col3\" >259045</td>\n",
       "                        <td id=\"T_3c405_row9_col4\" class=\"data row9 col4\" >330326</td>\n",
       "                        <td id=\"T_3c405_row9_col5\" class=\"data row9 col5\" >27.516841</td>\n",
       "            </tr>\n",
       "    </tbody></table>"
      ],
      "text/plain": [
       "<pandas.io.formats.style.Styler at 0x1e00eb01df0>"
      ]
     },
     "execution_count": 31,
     "metadata": {},
     "output_type": "execute_result"
    }
   ],
   "source": [
    "run_tests('local_search', 1000)"
   ]
  }
 ],
 "metadata": {
  "kernelspec": {
   "display_name": "Python 3",
   "language": "python",
   "name": "python3"
  },
  "language_info": {
   "codemirror_mode": {
    "name": "ipython",
    "version": 3
   },
   "file_extension": ".py",
   "mimetype": "text/x-python",
   "name": "python",
   "nbconvert_exporter": "python",
   "pygments_lexer": "ipython3",
   "version": "3.8.8"
  }
 },
 "nbformat": 4,
 "nbformat_minor": 5
}
